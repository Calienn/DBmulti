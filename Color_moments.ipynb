{
 "cells": [
  {
   "cell_type": "markdown",
   "id": "088b8fc2",
   "metadata": {},
   "source": [
    "Color Moments"
   ]
  },
  {
   "cell_type": "code",
   "execution_count": 1,
   "id": "36d2ec7f",
   "metadata": {},
   "outputs": [],
   "source": [
    "import os\n",
    "import cv2\n",
    "import numpy as np\n",
    "import pandas as pd\n",
    "import matplotlib.pyplot as plt\n",
    "from scipy.stats import skew\n",
    "from scipy.spatial.distance import mahalanobis\n",
    "from sklearn.metrics.pairwise import euclidean_distances"
   ]
  },
  {
   "cell_type": "markdown",
   "id": "e33eaae8",
   "metadata": {},
   "source": [
    "Setup"
   ]
  },
  {
   "cell_type": "code",
   "execution_count": 4,
   "id": "567059dc",
   "metadata": {},
   "outputs": [],
   "source": [
    "data = np.load(\"color_moments.npz\", allow_pickle=True)\n",
    "feature_matrix = data[\"features\"]\n",
    "filenames = data[\"filenames\"]\n",
    "labels = data[\"labels\"]"
   ]
  },
  {
   "cell_type": "markdown",
   "id": "e58732e0",
   "metadata": {},
   "source": [
    "Crop automatico per isolare il cervello - Task1-2"
   ]
  },
  {
   "cell_type": "code",
   "execution_count": 5,
   "id": "00999225",
   "metadata": {},
   "outputs": [],
   "source": [
    "def crop_to_brain(img):\n",
    "    \"\"\"Ritaglia l'area informativa (cervello) da un'immagine.\"\"\"\n",
    "    gray = cv2.cvtColor(img, cv2.COLOR_BGR2GRAY)\n",
    "    _, thresh = cv2.threshold(gray, 10, 255, cv2.THRESH_BINARY)\n",
    "    coords = cv2.findNonZero(thresh)\n",
    "    if coords is not None:\n",
    "        x, y, w, h = cv2.boundingRect(coords)\n",
    "        return img[y:y+h, x:x+w]\n",
    "    return img  # fallback"
   ]
  },
  {
   "cell_type": "markdown",
   "id": "e6714dba",
   "metadata": {},
   "source": [
    "Estrazione Color Moments su griglia - Task 1-2"
   ]
  },
  {
   "cell_type": "code",
   "execution_count": 6,
   "id": "fc8196bd",
   "metadata": {},
   "outputs": [],
   "source": [
    "def extract_color_moments(img_path):\n",
    "    \"\"\"Estrae Color Moments su una griglia 10x10 da un'immagine.\"\"\"\n",
    "    img = cv2.imread(img_path)\n",
    "    if img is None:\n",
    "        print(f\"[ERRORE] Immagine non trovata: {img_path}\")\n",
    "        return None\n",
    "\n",
    "    if len(img.shape) == 2 or img.shape[2] == 1:\n",
    "        img = cv2.cvtColor(img, cv2.COLOR_GRAY2BGR)\n",
    "\n",
    "    img = crop_to_brain(img)\n",
    "    img = cv2.resize(img, (300, 100))  # Griglia uniforme\n",
    "\n",
    "    h, w, _ = img.shape\n",
    "    grid_h, grid_w = h // 10, w // 10\n",
    "    features = []\n",
    "\n",
    "    for i in range(10):\n",
    "        for j in range(10):\n",
    "            cell = img[i*grid_h:(i+1)*grid_h, j*grid_w:(j+1)*grid_w]\n",
    "            for channel in range(3):\n",
    "                pixels = cell[:, :, channel].flatten()\n",
    "                if np.std(pixels) > 0:\n",
    "                    mean = np.mean(pixels)\n",
    "                    std = np.std(pixels)\n",
    "                    sk = skew(pixels)\n",
    "                    if np.isnan(sk): sk = 0\n",
    "                else:\n",
    "                    mean, std, sk = 0, 0, 0\n",
    "                features.extend([mean, std, sk])\n",
    "    return features"
   ]
  },
  {
   "cell_type": "markdown",
   "id": "4cf0122b",
   "metadata": {},
   "source": [
    " Estrazione feature da più cartelle e salvataggio in .npz"
   ]
  },
  {
   "cell_type": "code",
   "execution_count": 7,
   "id": "b8957034",
   "metadata": {},
   "outputs": [],
   "source": [
    "def process_and_save_features(base_folder, subfolders, output_file):\n",
    "    \"\"\"Estrae le feature da immagini organizzate in sottocartelle e le salva in un file .npz.\"\"\"\n",
    "    all_features, all_filenames, all_labels = [], [], []\n",
    "\n",
    "    for label in subfolders:\n",
    "        folder_path = os.path.join(base_folder, label)\n",
    "        print(f\"[INFO] Elaboro cartella: {label}\")\n",
    "        for filename in os.listdir(folder_path):\n",
    "            if filename.lower().endswith(('.jpg', '.png', '.jpeg', '.bmp', '.tif')):\n",
    "                img_path = os.path.join(folder_path, filename)\n",
    "                features = extract_color_moments(img_path)\n",
    "                if features is not None:\n",
    "                    all_features.append(features)\n",
    "                    all_filenames.append(filename)\n",
    "                    all_labels.append(label)\n",
    "\n",
    "    np.savez(output_file,\n",
    "             features=np.array(all_features),\n",
    "             filenames=np.array(all_filenames),\n",
    "             labels=np.array(all_labels))\n",
    "    print(f\"[SALVATO] Features salvate in {output_file}\")"
   ]
  },
  {
   "cell_type": "markdown",
   "id": "fdd46fed",
   "metadata": {},
   "source": [
    "Ricerca immagini simili (Euclidea) - Task 3"
   ]
  },
  {
   "cell_type": "code",
   "execution_count": 8,
   "id": "1a0add08",
   "metadata": {},
   "outputs": [],
   "source": [
    "def find_k_similar(base_folder,img_path, k):\n",
    "    \"\"\"Trova le k immagini più simili in base alla distanza euclidea.\"\"\"\n",
    "    query_feature = extract_color_moments(img_path)\n",
    "    if query_feature is None:\n",
    "        return\n",
    "\n",
    "    query_feature = np.array(query_feature).reshape(1, -1)\n",
    "    distances = euclidean_distances(feature_matrix, query_feature).flatten()\n",
    "    top_k_idx = np.argsort(distances)[:k]\n",
    "\n",
    "    print(f\"\\nTop {k} immagini simili a: {img_path}\")\n",
    "    for rank, idx in enumerate(top_k_idx):\n",
    "        print(f\"{rank+1}. {filenames[idx]} | Classe: {labels[idx]} | Distanza: {distances[idx]:.2f}\")\n",
    "\n",
    "    # Visualizzazione\n",
    "    fig, axs = plt.subplots(1, k+1, figsize=(15, 5))\n",
    "    axs[0].imshow(cv2.cvtColor(cv2.imread(img_path), cv2.COLOR_BGR2RGB))\n",
    "    axs[0].set_title(\"Query\")\n",
    "    axs[0].axis('off')\n",
    "\n",
    "    for i, idx in enumerate(top_k_idx):\n",
    "        img_match = cv2.imread(os.path.join(base_folder, labels[idx], filenames[idx]))\n",
    "        axs[i+1].imshow(cv2.cvtColor(img_match, cv2.COLOR_BGR2RGB))\n",
    "        axs[i+1].set_title(f\"Rank {i+1}\\nD={distances[idx]:.2f}\")\n",
    "        axs[i+1].axis('off')\n",
    "\n",
    "    plt.tight_layout()\n",
    "    plt.show()"
   ]
  },
  {
   "cell_type": "markdown",
   "id": "aab512b0",
   "metadata": {},
   "source": [
    "Ricerca immagini simili (Mahalanobis) - Task 3"
   ]
  },
  {
   "cell_type": "code",
   "execution_count": 9,
   "id": "7a2fd45f",
   "metadata": {},
   "outputs": [],
   "source": [
    "def find_k_similar_mahalanobis(base_folder, img_path, k):\n",
    "    \"\"\"Trova le k immagini più simili usando distanza di Mahalanobis, escludendo la query.\"\"\"\n",
    "    # Estrai le feature dalla query\n",
    "    query_feature = extract_color_moments(img_path)\n",
    "    if query_feature is None:\n",
    "        return\n",
    "\n",
    "    query_feature = np.array(query_feature)\n",
    "\n",
    "    # Calcola matrice di covarianza delle feature\n",
    "    cov = np.cov(feature_matrix.T)\n",
    "\n",
    "    # Inversione con fallback alla pseudoinversa\n",
    "    try:\n",
    "        cov_inv = np.linalg.inv(cov)\n",
    "    except np.linalg.LinAlgError:\n",
    "        print(\"[ERRORE] Uso pseudoinversa per matrice non invertibile.\")\n",
    "        cov_inv = np.linalg.pinv(cov)\n",
    "\n",
    "    # Calcola distanza di Mahalanobis tra la query e tutte le immagini\n",
    "    distances = np.array([\n",
    "        mahalanobis(query_feature, f, cov_inv) for f in feature_matrix\n",
    "    ])\n",
    "\n",
    "    # Opzionale: escludi la query stessa (distanza 0)\n",
    "    # === Escludi la query basandoti sul path ===\n",
    "    query_filename = os.path.basename(img_path)\n",
    "    query_label = os.path.basename(os.path.dirname(img_path))\n",
    "\n",
    "    for i in range(len(filenames)):\n",
    "        if filenames[i] == query_filename and labels[i] == query_label:\n",
    "            distances[i] = np.inf\n",
    "            break\n",
    "\n",
    "    # Seleziona i top-k indici a distanza minima\n",
    "    top_k_idx = np.argsort(distances)[:k]\n",
    "    top_k_scores = distances[top_k_idx]\n",
    "\n",
    "    # Output testuale\n",
    "    print(f\"\\nTop {k} immagini simili (Mahalanobis): {img_path}\")\n",
    "    for rank, idx in enumerate(top_k_idx):\n",
    "        print(f\"{rank+1}. {filenames[idx]} | Classe: {labels[idx]} | Distanza: {top_k_scores[rank]:.2f}\")\n",
    "\n",
    "    # Visualizza le immagini\n",
    "    fig, axs = plt.subplots(1, k + 1, figsize=(15, 5))\n",
    "    axs[0].imshow(cv2.cvtColor(cv2.imread(img_path), cv2.COLOR_BGR2RGB))\n",
    "    axs[0].set_title(\"Query\")\n",
    "    axs[0].axis('off')\n",
    "\n",
    "    for i, idx in enumerate(top_k_idx):\n",
    "        img_match_path = os.path.join(base_folder, labels[idx], filenames[idx])\n",
    "        img_match = cv2.imread(img_match_path)\n",
    "        axs[i + 1].imshow(cv2.cvtColor(img_match, cv2.COLOR_BGR2RGB))\n",
    "        axs[i + 1].set_title(f\"Rank {i + 1}\\nD={top_k_scores[i]:.2f}\")\n",
    "        axs[i + 1].axis('off')\n",
    "\n",
    "    plt.tight_layout()\n",
    "    plt.show()"
   ]
  },
  {
   "cell_type": "markdown",
   "id": "b46a2b6e",
   "metadata": {},
   "source": [
    "Esecuzione: Estrazione e salvataggio"
   ]
  },
  {
   "cell_type": "code",
   "execution_count": null,
   "id": "7f8dc415",
   "metadata": {},
   "outputs": [],
   "source": [
    "# Parametri\n",
    "base_folder = \"Part1\"\n",
    "subfolders = [\"brain_glioma\", \"brain_menin\", \"brain_tumor\"]\n",
    "output_file = \"color_moments.npz\"\n",
    "\n",
    "# Estrazione e salvataggio\n",
    "process_and_save_features(base_folder, subfolders, output_file)"
   ]
  },
  {
   "cell_type": "markdown",
   "id": "25dbd1e1",
   "metadata": {},
   "source": [
    "Esecuzione"
   ]
  },
  {
   "cell_type": "code",
   "execution_count": null,
   "id": "27746597",
   "metadata": {},
   "outputs": [],
   "source": [
    "query_img = \"Part1/brain_glioma/brain_glioma_0005.jpg\"\n",
    "find_k_similar(base_folder,query_img, k=5)\n",
    "find_k_similar_mahalanobis(base_folder,query_img, k=7)"
   ]
  },
  {
   "cell_type": "markdown",
   "id": "64f47cab",
   "metadata": {},
   "source": [
    "Task 4:\n",
    "\n",
    "\t1.\tAccetti come input:\n",
    "\t    •\tun’immagine di query (da “Part2”)\n",
    "\t    •\tuna scelta dell’utente sul tipo di feature space\n",
    "\t    •\tun valore intero k <= 2.\n",
    "\t2.\tCalcoli le features dell’immagine di query secondo il feature space selezionato.\n",
    "\t3.\tCalcoli la distanza tra la query e tutte le immagini del dataset (es. Euclidea o Mahalanobis).\n",
    "\t4.\tRaggruppi le distanze per label e selezioni le k classi (etichette) più simili in media.\n",
    "\t5.\tStampi/ritorni una classifica delle k etichette più probabili con il rispettivo punteggio (es. distanza  media o somma inversa delle distanze)."
   ]
  },
  {
   "cell_type": "code",
   "execution_count": 25,
   "id": "08f42b4a",
   "metadata": {},
   "outputs": [],
   "source": [
    "def predict_top_k_labels(query_img_path,k):\n",
    "    assert k <= 2, \"k deve essere <= 2\"\n",
    "\n",
    "    query_feature = extract_color_moments(query_img_path)\n",
    "    if query_feature is None:\n",
    "        print(\"[ERRORE] Feature non estratte.\")\n",
    "        return\n",
    "\n",
    "    query_feature = np.array(query_feature).reshape(1, -1)\n",
    "    distances = euclidean_distances(feature_matrix, query_feature).flatten()\n",
    "\n",
    "    # Crea un DataFrame per semplificare il raggruppamento\n",
    "    df = pd.DataFrame({\n",
    "        'filename': filenames,\n",
    "        'label': labels,\n",
    "        'distance': distances\n",
    "    })\n",
    "\n",
    "    # Calcola la distanza media per classe\n",
    "    avg_dist_per_label = df.groupby('label')['distance'].mean().sort_values()\n",
    "\n",
    "    # Prendi le k classi più simili\n",
    "    top_k_labels = avg_dist_per_label.head(k)\n",
    "\n",
    "    print(f\"\\nClassifica delle {k} etichette più probabili per la query:\")\n",
    "    for i, (label, score) in enumerate(top_k_labels.items(), 1):\n",
    "        print(f\"{i}. {label} | Score (distanza media): {score:.4f}\")"
   ]
  },
  {
   "cell_type": "code",
   "execution_count": null,
   "id": "63f6752a",
   "metadata": {},
   "outputs": [],
   "source": [
    "query_img = \"Part2/brain_glioma/brain_glioma_1113.jpg\"\n",
    "predict_top_k_labels(query_img,k=2)"
   ]
  }
 ],
 "metadata": {
  "kernelspec": {
   "display_name": "Python 3",
   "language": "python",
   "name": "python3"
  },
  "language_info": {
   "codemirror_mode": {
    "name": "ipython",
    "version": 3
   },
   "file_extension": ".py",
   "mimetype": "text/x-python",
   "name": "python",
   "nbconvert_exporter": "python",
   "pygments_lexer": "ipython3",
   "version": "3.11.2"
  }
 },
 "nbformat": 4,
 "nbformat_minor": 5
}
