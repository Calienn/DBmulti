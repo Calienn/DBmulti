{
 "cells": [
  {
   "cell_type": "code",
   "execution_count": 8,
   "id": "b047aad3",
   "metadata": {},
   "outputs": [],
   "source": [
    "# === Built-in ===\n",
    "import os\n",
    "\n",
    "# === Third-party ===\n",
    "import cv2\n",
    "import numpy as np\n",
    "import pandas as pd\n",
    "import matplotlib.pyplot as plt\n",
    "from PIL import Image\n",
    "from sklearn.metrics.pairwise import euclidean_distances, cosine_distances\n",
    "from scipy.spatial.distance import mahalanobis\n",
    "\n",
    "# === PyTorch ===\n",
    "import torch\n",
    "from torchvision import transforms\n",
    "from torchvision.models import resnet50, ResNet50_Weights"
   ]
  },
  {
   "cell_type": "markdown",
   "id": "64c56c11",
   "metadata": {},
   "source": [
    "Classe per Estrazione delle Feature - Task 1-2"
   ]
  },
  {
   "cell_type": "code",
   "execution_count": 9,
   "id": "0747cf1e",
   "metadata": {},
   "outputs": [],
   "source": [
    "class ResNetAvgPool1024Extractor:\n",
    "    def __init__(self):\n",
    "        self.model = resnet50(weights=ResNet50_Weights.DEFAULT)\n",
    "        self.model.eval()\n",
    "        self.feature = None\n",
    "        self.model.avgpool.register_forward_hook(self._hook_avgpool)\n",
    "\n",
    "        self.transform = transforms.Compose([\n",
    "            transforms.Resize((224, 224)),\n",
    "            transforms.ToTensor(),\n",
    "            transforms.Normalize(mean=[0.485, 0.456, 0.406],\n",
    "                                 std=[0.229, 0.224, 0.225]),\n",
    "        ])\n",
    "\n",
    "    def _hook_avgpool(self, module, input, output):\n",
    "        self.feature = output.squeeze().detach().numpy()\n",
    "\n",
    "    def extract_feature(self, image_path):\n",
    "        img = Image.open(image_path).convert('RGB')\n",
    "        input_tensor = self.transform(img).unsqueeze(0)\n",
    "        with torch.no_grad():\n",
    "            _ = self.model(input_tensor)\n",
    "\n",
    "        feat_2048 = self.feature\n",
    "        return 0.5 * (feat_2048[::2] + feat_2048[1::2])  # Ridotto a 1024"
   ]
  },
  {
   "cell_type": "markdown",
   "id": "588a74ba",
   "metadata": {},
   "source": [
    "Estrazione,Salvataggio e Caricamneto delle Feature "
   ]
  },
  {
   "cell_type": "code",
   "execution_count": 10,
   "id": "4708e174",
   "metadata": {},
   "outputs": [],
   "source": [
    "def process_and_save_features(base_folder, subfolders, output_file):\n",
    "    extractor = ResNetAvgPool1024Extractor()\n",
    "    all_features, all_filenames, all_labels = [], [], []\n",
    "\n",
    "    for label in subfolders:\n",
    "        folder_path = os.path.join(base_folder, label)\n",
    "        print(f\"[INFO] Elaboro cartella: {label}\")\n",
    "        for filename in os.listdir(folder_path):\n",
    "            if filename.lower().endswith(('.jpg', '.png', '.jpeg', '.bmp', '.tif')):\n",
    "                img_path = os.path.join(folder_path, filename)\n",
    "                features = extractor.extract_feature(img_path)\n",
    "                if features is not None:\n",
    "                    all_features.append(features)\n",
    "                    all_filenames.append(filename)\n",
    "                    all_labels.append(label)\n",
    "\n",
    "    np.savez(output_file,\n",
    "             features=np.array(all_features),\n",
    "             filenames=np.array(all_filenames),\n",
    "             labels=np.array(all_labels))\n",
    "    \n",
    "    print(f\"[SALVATO] Features salvate in {output_file}\")\n",
    "    print(f\"[FINE] Totale immagini processate: {len(all_features)}\")\n",
    "\n",
    "\n",
    "def load_features(file_path):\n",
    "    data = np.load(file_path, allow_pickle=True)\n",
    "    return data[\"features\"], data[\"filenames\"], data[\"labels\"]"
   ]
  },
  {
   "cell_type": "markdown",
   "id": "57ac58be",
   "metadata": {},
   "source": [
    "Visualizzazione dei Risultati"
   ]
  },
  {
   "cell_type": "code",
   "execution_count": 11,
   "id": "aad30579",
   "metadata": {},
   "outputs": [],
   "source": [
    "def plot_matches(query_path, indices, labels, filenames, distances, metric_label):\n",
    "    k = len(indices)\n",
    "    fig, axs = plt.subplots(1, k + 1, figsize=(15, 5))\n",
    "\n",
    "    # Immagine query\n",
    "    axs[0].imshow(cv2.cvtColor(cv2.imread(query_path), cv2.COLOR_BGR2RGB))\n",
    "    axs[0].set_title(\"Query\")\n",
    "    axs[0].axis('off')\n",
    "\n",
    "    # Immagini simili\n",
    "    for i, idx in enumerate(indices):\n",
    "        img_path = os.path.join(\"Part1\", labels[idx], filenames[idx])\n",
    "        match_img = cv2.imread(img_path)\n",
    "        axs[i + 1].imshow(cv2.cvtColor(match_img, cv2.COLOR_BGR2RGB))\n",
    "        axs[i + 1].set_title(f\"Rank {i+1}\\n{metric_label}={distances[idx]:.2f}\")\n",
    "        axs[i + 1].axis('off')\n",
    "\n",
    "    plt.tight_layout()\n",
    "    plt.show()"
   ]
  },
  {
   "cell_type": "markdown",
   "id": "434585c5",
   "metadata": {},
   "source": [
    "Ricerca Immagini Simili - Euclidea / Coseno  -- Task 3"
   ]
  },
  {
   "cell_type": "markdown",
   "id": "6a67af25",
   "metadata": {},
   "source": [
    "In questa funzione chiamiamo una solo distanza "
   ]
  },
  {
   "cell_type": "code",
   "execution_count": 13,
   "id": "7a1e2723",
   "metadata": {},
   "outputs": [],
   "source": [
    "def find_k_similar(img_path, k, extractor, features, filenames, labels):\n",
    "    query_feature = extractor.extract_feature(img_path)\n",
    "    if query_feature is None:\n",
    "        return\n",
    "\n",
    "    query_feature = np.array(query_feature).reshape(1, -1)\n",
    "    dist_euc = euclidean_distances(features, query_feature).flatten()\n",
    "    dist_cos = cosine_distances(features, query_feature).flatten()\n",
    "\n",
    "    top_k_idx_euc = np.argsort(dist_euc)[:k]\n",
    "    top_k_idx_cos = np.argsort(dist_cos)[:k]\n",
    "\n",
    "    print(f\"\\nTop {k} simili a {img_path}:\")\n",
    "    print(\"=== Euclide ===\")\n",
    "    for rank, idx in enumerate(top_k_idx_euc):\n",
    "        print(f\"{rank+1}. {filenames[idx]} | Classe: {labels[idx]} | Euclid: {dist_euc[idx]:.4f}\")\n",
    "\n",
    "    print(\"=== Coseno ===\")\n",
    "    for rank, idx in enumerate(top_k_idx_cos):\n",
    "        print(f\"{rank+1}. {filenames[idx]} | Classe: {labels[idx]} | Cosine: {dist_cos[idx]:.4f}\")\n",
    "\n",
    "    # Visualizza entrambi\n",
    "    plot_matches(img_path, top_k_idx_euc, labels, filenames, dist_euc, \"Euclid\")\n",
    "    plot_matches(img_path, top_k_idx_cos, labels, filenames, dist_cos, \"Cosine\")"
   ]
  },
  {
   "cell_type": "markdown",
   "id": "7d957217",
   "metadata": {},
   "source": [
    "Ricerca Immagini Simili - Mahalanobis -- Task 3"
   ]
  },
  {
   "cell_type": "code",
   "execution_count": 14,
   "id": "220b43bf",
   "metadata": {},
   "outputs": [],
   "source": [
    "def find_k_similar_mahalanobis(img_path, k, extractor, features, filenames, labels):\n",
    "    query_feature = extractor.extract_feature(img_path)\n",
    "    if query_feature is None:\n",
    "        return\n",
    "\n",
    "    query_feature = np.array(query_feature)\n",
    "    cov = np.cov(features.T)\n",
    "    try:\n",
    "        cov_inv = np.linalg.inv(cov)\n",
    "    except np.linalg.LinAlgError:\n",
    "        print(\"[ERRORE] Covarianza non invertibile. Uso pseudoinversa.\")\n",
    "        cov_inv = np.linalg.pinv(cov)\n",
    "\n",
    "    distances = np.array([mahalanobis(query_feature, f, cov_inv) for f in features])\n",
    "    top_k_idx = np.argsort(distances)[:k]\n",
    "\n",
    "    print(f\"\\nTop {k} simili (Mahalanobis) a {img_path}:\")\n",
    "    for rank, idx in enumerate(top_k_idx):\n",
    "        print(f\"{rank+1}. {filenames[idx]} | Classe: {labels[idx]} | Distanza: {distances[idx]:.2f}\")\n",
    "\n",
    "    plot_matches(img_path, top_k_idx, labels, filenames, distances, \"M\")"
   ]
  },
  {
   "cell_type": "markdown",
   "id": "16dbba47",
   "metadata": {},
   "source": [
    "Esecuzione"
   ]
  },
  {
   "cell_type": "code",
   "execution_count": null,
   "id": "30df13d9",
   "metadata": {},
   "outputs": [],
   "source": [
    "# === Parametri ===\n",
    "base_folder = \"Part1\"\n",
    "subfolders = [\"brain_glioma\", \"brain_menin\", \"brain_tumor\"]\n",
    "output_file = \"resnet1024.npz\"\n",
    "\n",
    "# === Estrai e salva features (solo una volta) ===\n",
    "# process_and_save_features(base_folder, subfolders, output_file)\n",
    "\n",
    "# === Carica features ===\n",
    "features, filenames, labels = load_features(output_file)\n",
    "\n",
    "# === Inizializza extractor ===\n",
    "extractor = ResNetAvgPool1024Extractor()\n",
    "\n",
    "# === Query ===\n",
    "query_img = \"Part1/brain_glioma/brain_glioma_0005.jpg\"\n",
    "find_k_similar(query_img, k=5, extractor=extractor, features=features, filenames=filenames, labels=labels)\n",
    "find_k_similar_mahalanobis(query_img, k=5, extractor=extractor, features=features, filenames=filenames, labels=labels)"
   ]
  }
 ],
 "metadata": {
  "kernelspec": {
   "display_name": "Python 3",
   "language": "python",
   "name": "python3"
  },
  "language_info": {
   "codemirror_mode": {
    "name": "ipython",
    "version": 3
   },
   "file_extension": ".py",
   "mimetype": "text/x-python",
   "name": "python",
   "nbconvert_exporter": "python",
   "pygments_lexer": "ipython3",
   "version": "3.11.2"
  }
 },
 "nbformat": 4,
 "nbformat_minor": 5
}
