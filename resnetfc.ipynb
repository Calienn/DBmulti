{
 "cells": [
  {
   "cell_type": "code",
   "execution_count": 1,
   "id": "b82eb29c",
   "metadata": {},
   "outputs": [],
   "source": [
    "# Librerie principali\n",
    "import os\n",
    "import numpy as np\n",
    "from PIL import Image\n",
    "import matplotlib.pyplot as plt\n",
    "\n",
    "# PyTorch & torchvision\n",
    "import torch\n",
    "from torchvision import models\n",
    "from torchvision.models import ResNet50_Weights\n",
    "\n",
    "# OpenCV\n",
    "import cv2\n",
    "\n",
    "# Similarità\n",
    "from sklearn.metrics.pairwise import cosine_distances"
   ]
  },
  {
   "cell_type": "markdown",
   "id": "e468c50e",
   "metadata": {},
   "source": [
    "Setup"
   ]
  },
  {
   "cell_type": "code",
   "execution_count": 2,
   "id": "a3ee13a9",
   "metadata": {},
   "outputs": [],
   "source": [
    "# Se CUDA disponibile, usa la GPU\n",
    "device = torch.device(\"cuda\" if torch.cuda.is_available() else \"cpu\")\n",
    "\n",
    "# Carica ResNet50 pre-addestrata e in modalità eval\n",
    "weights = ResNet50_Weights.IMAGENET1K_V1  # o DEFAULT per i pesi più aggiornati\n",
    "model = models.resnet50(weights=weights)\n",
    "model.eval()\n",
    "model.to(device)\n",
    "\n",
    "# Preprocessing standard per ResNet\n",
    "preprocess = weights.transforms()\n",
    "\n",
    "# Carica features da file .npz\n",
    "data = np.load(\"resnetfc.npz\", allow_pickle=True)\n",
    "feature_matrix = data[\"features\"]\n",
    "filenames = data[\"filenames\"]\n",
    "labels = data[\"labels\"]\n",
    "\n"
   ]
  },
  {
   "cell_type": "markdown",
   "id": "2d7ad571",
   "metadata": {},
   "source": [
    "Funzione Estrazione Feature - Task 1-2"
   ]
  },
  {
   "cell_type": "code",
   "execution_count": 4,
   "id": "33c9c974",
   "metadata": {},
   "outputs": [],
   "source": [
    "def extract_fc_features_from_image(image_path, model, preprocess, device):\n",
    "    \"\"\"\n",
    "    Estrae le feature del layer fully connected (fc) di ResNet50 da un'immagine.\n",
    "    \"\"\"\n",
    "    try:\n",
    "        img = Image.open(image_path).convert(\"RGB\")\n",
    "    except Exception as e:\n",
    "        print(f\"[ERRORE] Immagine non valida {image_path}: {e}\")\n",
    "        return None\n",
    "\n",
    "    img_tensor = preprocess(img).unsqueeze(0).to(device)\n",
    "    fc_output = []\n",
    "\n",
    "    def hook_fn(module, input, output):\n",
    "        fc_output.append(output)\n",
    "\n",
    "    hook = model.fc.register_forward_hook(hook_fn)\n",
    "    with torch.no_grad():\n",
    "        model(img_tensor)\n",
    "    hook.remove()\n",
    "\n",
    "    if fc_output:\n",
    "        return fc_output[0].squeeze(0).cpu().numpy()\n",
    "    else:\n",
    "        print(f\"[ERRORE] Nessun output FC per {image_path}\")\n",
    "        return None"
   ]
  },
  {
   "cell_type": "markdown",
   "id": "daaa9a99",
   "metadata": {},
   "source": [
    "Elaborazione Batch e Salvataggio Feature in .npz"
   ]
  },
  {
   "cell_type": "code",
   "execution_count": 12,
   "id": "d43f4f87",
   "metadata": {},
   "outputs": [],
   "source": [
    "def process_and_save_features(base_folder, subfolders, output_file):\n",
    "    \"\"\"\n",
    "    Estrae le feature FC da immagini in più cartelle e salva in un file .npz.\n",
    "    \"\"\"\n",
    "    all_features = []\n",
    "    all_filenames = []\n",
    "    all_labels = []\n",
    "\n",
    "    for label in subfolders:\n",
    "        folder_path = os.path.join(base_folder, label)\n",
    "        if not os.path.isdir(folder_path):\n",
    "            print(f\"[ATTENZIONE] Cartella non trovata: {folder_path}\")\n",
    "            continue\n",
    "        print(f\"[INFO] Elaboro cartella: {label}\")\n",
    "\n",
    "        for filename in os.listdir(folder_path):\n",
    "            if filename.lower().endswith(('.jpg', '.png', '.jpeg', '.bmp', '.tif')):\n",
    "                img_path = os.path.join(folder_path, filename)\n",
    "                features = extract_fc_features_from_image(img_path, model, preprocess, device)\n",
    "                if features is not None:\n",
    "                    all_features.append(features)\n",
    "                    all_filenames.append(filename)\n",
    "                    all_labels.append(label)\n",
    "                else:\n",
    "                    print(f\"[ERRORE] Feature non estratte da {img_path}\")\n",
    "\n",
    "    # Salva in file .npz\n",
    "    np.savez(output_file,\n",
    "             features=np.array(all_features),\n",
    "             filenames=np.array(all_filenames),\n",
    "             labels=np.array(all_labels))\n",
    "    \n",
    "    print(f\"[SALVATO] Features salvate in {output_file}\")\n",
    "    print(f\"[FINE] Totale immagini processate: {len(all_features)}\")"
   ]
  },
  {
   "cell_type": "markdown",
   "id": "685a7462",
   "metadata": {},
   "source": [
    " Retrieval: Immagini più Simili (distanza coseno) - Task 3"
   ]
  },
  {
   "cell_type": "code",
   "execution_count": 5,
   "id": "cc7d97c2",
   "metadata": {},
   "outputs": [],
   "source": [
    "def find_k_similar_cosine(img_path, k):\n",
    "    \"\"\"\n",
    "    Trova le k immagini più simili rispetto a una query, usando la distanza coseno.\n",
    "    \"\"\"\n",
    "    query_feature = extract_fc_features_from_image(img_path, model, preprocess, device)\n",
    "    if query_feature is None:\n",
    "        print(\"[ERRORE] Impossibile estrarre feature dalla query.\")\n",
    "        return\n",
    "\n",
    "    query_feature = np.array(query_feature).reshape(1, -1)\n",
    "    distances = cosine_distances(feature_matrix, query_feature).flatten()\n",
    "\n",
    "    top_k_idx = np.argsort(distances)[:k]\n",
    "    top_k_scores = distances[top_k_idx]\n",
    "\n",
    "    print(f\"\\nTop {k} immagini più simili a: {img_path}\")\n",
    "    for rank, idx in enumerate(top_k_idx):\n",
    "        print(f\"{rank+1}. {filenames[idx]} | Classe: {labels[idx]} | Distanza: {top_k_scores[rank]:.4f}\")\n",
    "\n",
    "    # Visualizzazione\n",
    "    fig, axs = plt.subplots(1, k+1, figsize=(15, 5))\n",
    "    axs[0].imshow(cv2.cvtColor(cv2.imread(img_path), cv2.COLOR_BGR2RGB))\n",
    "    axs[0].set_title(\"Query\")\n",
    "    axs[0].axis('off')\n",
    "\n",
    "    for i, idx in enumerate(top_k_idx):\n",
    "        match_img = cv2.imread(os.path.join(\"Part1\", labels[idx], filenames[idx]))\n",
    "        axs[i+1].imshow(cv2.cvtColor(match_img, cv2.COLOR_BGR2RGB))\n",
    "        axs[i+1].set_title(f\"Rank {i+1}\\nD={top_k_scores[i]:.4f}\")\n",
    "        axs[i+1].axis('off')\n",
    "\n",
    "    plt.tight_layout()\n",
    "    plt.show()"
   ]
  },
  {
   "cell_type": "code",
   "execution_count": null,
   "id": "b855f245",
   "metadata": {},
   "outputs": [],
   "source": [
    "# Parametri cartelle e output\n",
    "base_folder = \"Part1\"\n",
    "subfolders = [\"brain_glioma\", \"brain_menin\", \"brain_tumor\"]\n",
    "output_file = \"resnetfc.npz\"\n",
    "\n",
    "# Estrazione e salvataggio\n",
    "process_and_save_features(base_folder, subfolders, output_file)"
   ]
  },
  {
   "cell_type": "code",
   "execution_count": null,
   "id": "78a9092d",
   "metadata": {},
   "outputs": [],
   "source": [
    "\n",
    "# Test su immagine di query\n",
    "query_img = \"Part1/brain_glioma/brain_glioma_0017.jpg\"\n",
    "find_k_similar_cosine(query_img, k=5)"
   ]
  }
 ],
 "metadata": {
  "kernelspec": {
   "display_name": "Python 3",
   "language": "python",
   "name": "python3"
  },
  "language_info": {
   "codemirror_mode": {
    "name": "ipython",
    "version": 3
   },
   "file_extension": ".py",
   "mimetype": "text/x-python",
   "name": "python",
   "nbconvert_exporter": "python",
   "pygments_lexer": "ipython3",
   "version": "3.11.2"
  }
 },
 "nbformat": 4,
 "nbformat_minor": 5
}
